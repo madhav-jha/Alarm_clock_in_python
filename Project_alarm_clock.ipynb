{
 "cells": [
  {
   "cell_type": "markdown",
   "metadata": {},
   "source": [
    "# Alarm Clock which plays a beep sound after certain minutes"
   ]
  },
  {
   "cell_type": "code",
   "execution_count": 10,
   "metadata": {},
   "outputs": [],
   "source": [
    "import sys\n",
    "import string\n",
    "from time import sleep\n",
    "from datetime import datetime\n",
    "import winsound\n",
    "\n",
    "def set_alarm(min):\n",
    "\n",
    "    t = datetime.now()\n",
    "    print(\"Current time: \",t.strftime('%m/%d/%y %H:%M'))\n",
    "    \n",
    "    sec = min * 60\n",
    "    \n",
    "    if min >= 0:\n",
    "        print(\"Alarm will ring after \" + str(min) + ' minute(s)')\n",
    "        sleep(sec)\n",
    "        print(\"Get up!\") \n",
    "        winsound.Beep(1500, 5000)\n",
    "        \n",
    "    else:\n",
    "        print(\"Please enter valid value!\")"
   ]
  },
  {
   "cell_type": "code",
   "execution_count": 11,
   "metadata": {},
   "outputs": [
    {
     "name": "stdout",
     "output_type": "stream",
     "text": [
      "Enter number of minutes to set the alarm: 0\n",
      "Current time:  12/01/17 12:38\n",
      "Alarm will ring after 0 minute(s)\n",
      "Get up!\n"
     ]
    }
   ],
   "source": [
    "min = int(input(\"Enter number of minutes to set the alarm: \"))\n",
    "set_alarm(min)"
   ]
  },
  {
   "cell_type": "code",
   "execution_count": null,
   "metadata": {
    "collapsed": true
   },
   "outputs": [],
   "source": []
  }
 ],
 "metadata": {
  "kernelspec": {
   "display_name": "Python 3",
   "language": "python",
   "name": "python3"
  },
  "language_info": {
   "codemirror_mode": {
    "name": "ipython",
    "version": 3
   },
   "file_extension": ".py",
   "mimetype": "text/x-python",
   "name": "python",
   "nbconvert_exporter": "python",
   "pygments_lexer": "ipython3",
   "version": "3.6.3"
  }
 },
 "nbformat": 4,
 "nbformat_minor": 2
}
